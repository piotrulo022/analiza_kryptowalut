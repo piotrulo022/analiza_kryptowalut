{
 "cells": [
  {
   "cell_type": "markdown",
   "metadata": {
    "id": "ABFo4zXIxMHK"
   },
   "source": [
    "   ***Piotr Szyszka***\n",
    "    \n",
    "   s95047@pollub.edu.pl\n",
    "    \n",
    "   IAD 2.2 LAB 3\n",
    "    \n",
    "  \n",
    "    \n",
    "*Projekt na zaliczenie przedmiotu* ***Programowanie w języku Python***\n",
    "\n",
    "***Temat projektu***: *Analiza kursów cen kryptowalut.*"
   ]
  },
  {
   "cell_type": "markdown",
   "metadata": {
    "id": "FiNX_k3UyPsj"
   },
   "source": [
    "## 1. Opis zbioru danych.\n",
    "\n",
    "Zebrane dane dotyczą kursów cen (w $) czterech wybranych kryptowalut od 01-01-2020 do 20-06-2022. Są to:\n",
    "\n",
    "* Ethereum (***ETH***)\n",
    "\n",
    "* Bitcoin (***BTC***)\n",
    "\n",
    "* Binancecoin (***BNB***)\n",
    "\n",
    "* Litecoin (***LTC***)\n",
    "\n",
    "Dane pochodzą z z [yahoofinance](https://finance.yahoo.com/) i zostały zaimportowane za pomocą biblioteki `yfinance`.\n",
    "\n",
    "\n"
   ]
  },
  {
   "cell_type": "code",
   "execution_count": 58,
   "metadata": {
    "colab": {
     "base_uri": "https://localhost:8080/"
    },
    "executionInfo": {
     "elapsed": 1949,
     "status": "ok",
     "timestamp": 1655497567184,
     "user": {
      "displayName": "Piotr Szyszka",
      "userId": "10207043678912675256"
     },
     "user_tz": -120
    },
    "id": "Z6JghVYowNPh",
    "outputId": "deb38e41-c7ec-4e3b-a96b-98d52bbf4fc1"
   },
   "outputs": [],
   "source": [
    "# Biblioteki\n",
    "import yfinance as yf\n",
    "import numpy as np\n",
    "import pandas as pd\n",
    "import scipy.stats as st\n",
    "import matplotlib.pyplot as plt\n",
    "import statsmodels.stats.diagnostic as ssd\n",
    "import statsmodels.stats.api as sms\n",
    "import statsmodels.formula.api as smf"
   ]
  },
  {
   "cell_type": "code",
   "execution_count": 59,
   "metadata": {
    "colab": {
     "base_uri": "https://localhost:8080/"
    },
    "executionInfo": {
     "elapsed": 1309,
     "status": "ok",
     "timestamp": 1655497645717,
     "user": {
      "displayName": "Piotr Szyszka",
      "userId": "10207043678912675256"
     },
     "user_tz": -120
    },
    "id": "Xh43pAvMzA8s",
    "outputId": "261fc2d3-73ce-421d-ba45-fc589fd1e986"
   },
   "outputs": [
    {
     "name": "stdout",
     "output_type": "stream",
     "text": [
      "[*********************100%***********************]  1 of 1 completed\n",
      "[*********************100%***********************]  1 of 1 completed\n",
      "[*********************100%***********************]  1 of 1 completed\n",
      "[*********************100%***********************]  1 of 1 completed\n"
     ]
    }
   ],
   "source": [
    "# Pobranie danych z yahoofinance\n",
    "eth = yf.download(tickers = \"ETH-USD\", start = \"2020-01-01\", end = \"2022-06-20\")\n",
    "btc = yf.download(tickers = \"BTC-USD\", start = \"2020-01-01\", end = \"2022-06-20\")\n",
    "bnb = yf.download(tickers = \"BNB-USD\", start = \"2020-01-01\", end = \"2022-06-20\")\n",
    "litecoin = yf.download(tickers = \"LTC-USD\", start = \"2020-01-01\", end = \"2022-06-20\")\n"
   ]
  },
  {
   "cell_type": "code",
   "execution_count": 60,
   "metadata": {
    "colab": {
     "base_uri": "https://localhost:8080/",
     "height": 238
    },
    "executionInfo": {
     "elapsed": 411,
     "status": "ok",
     "timestamp": 1655497758868,
     "user": {
      "displayName": "Piotr Szyszka",
      "userId": "10207043678912675256"
     },
     "user_tz": -120
    },
    "id": "ey1W2BCt0FlB",
    "outputId": "20baa8ee-9be8-42c0-9c76-ee8cad9ac016"
   },
   "outputs": [
    {
     "data": {
      "text/html": [
       "<div>\n",
       "<style scoped>\n",
       "    .dataframe tbody tr th:only-of-type {\n",
       "        vertical-align: middle;\n",
       "    }\n",
       "\n",
       "    .dataframe tbody tr th {\n",
       "        vertical-align: top;\n",
       "    }\n",
       "\n",
       "    .dataframe thead th {\n",
       "        text-align: right;\n",
       "    }\n",
       "</style>\n",
       "<table border=\"1\" class=\"dataframe\">\n",
       "  <thead>\n",
       "    <tr style=\"text-align: right;\">\n",
       "      <th></th>\n",
       "      <th>Ethereum</th>\n",
       "      <th>Bitcoin</th>\n",
       "      <th>Binancecoin</th>\n",
       "      <th>Litecoin</th>\n",
       "    </tr>\n",
       "    <tr>\n",
       "      <th>Date</th>\n",
       "      <th></th>\n",
       "      <th></th>\n",
       "      <th></th>\n",
       "      <th></th>\n",
       "    </tr>\n",
       "  </thead>\n",
       "  <tbody>\n",
       "    <tr>\n",
       "      <th>2019-12-31</th>\n",
       "      <td>129.610855</td>\n",
       "      <td>7193.599121</td>\n",
       "      <td>13.727642</td>\n",
       "      <td>41.340073</td>\n",
       "    </tr>\n",
       "    <tr>\n",
       "      <th>2020-01-01</th>\n",
       "      <td>130.802002</td>\n",
       "      <td>7200.174316</td>\n",
       "      <td>13.689083</td>\n",
       "      <td>42.017719</td>\n",
       "    </tr>\n",
       "    <tr>\n",
       "      <th>2020-01-02</th>\n",
       "      <td>127.410179</td>\n",
       "      <td>6985.470215</td>\n",
       "      <td>13.027011</td>\n",
       "      <td>39.823013</td>\n",
       "    </tr>\n",
       "    <tr>\n",
       "      <th>2020-01-03</th>\n",
       "      <td>134.171707</td>\n",
       "      <td>7344.884277</td>\n",
       "      <td>13.660452</td>\n",
       "      <td>42.415573</td>\n",
       "    </tr>\n",
       "    <tr>\n",
       "      <th>2020-01-04</th>\n",
       "      <td>135.069366</td>\n",
       "      <td>7410.656738</td>\n",
       "      <td>13.891512</td>\n",
       "      <td>43.326607</td>\n",
       "    </tr>\n",
       "  </tbody>\n",
       "</table>\n",
       "</div>"
      ],
      "text/plain": [
       "              Ethereum      Bitcoin  Binancecoin   Litecoin\n",
       "Date                                                       \n",
       "2019-12-31  129.610855  7193.599121    13.727642  41.340073\n",
       "2020-01-01  130.802002  7200.174316    13.689083  42.017719\n",
       "2020-01-02  127.410179  6985.470215    13.027011  39.823013\n",
       "2020-01-03  134.171707  7344.884277    13.660452  42.415573\n",
       "2020-01-04  135.069366  7410.656738    13.891512  43.326607"
      ]
     },
     "execution_count": 60,
     "metadata": {},
     "output_type": "execute_result"
    }
   ],
   "source": [
    "\n",
    "df = pd.DataFrame({\"Ethereum\": eth.Close,\n",
    "                   \"Bitcoin\": btc.Close,\n",
    "                   \"Binancecoin\":bnb.Close,\n",
    "                   \"Litecoin\":litecoin.Close})\n",
    "df.head()"
   ]
  },
  {
   "cell_type": "markdown",
   "metadata": {
    "id": "0Imy05I61DCK"
   },
   "source": [
    "# Trochę ilustracji.\n",
    "\n",
    "Jak wiadomo ludzie są wzrokowcami, stąd przebieg zmienności notowań najlepiej jest przedstawiać w postaci tabel i wykresów. \n"
   ]
  },
  {
   "cell_type": "markdown",
   "metadata": {
    "id": "7fKsn4X_5xad"
   },
   "source": [
    "# 2. Podstawowe statystyki opisowe."
   ]
  },
  {
   "cell_type": "code",
   "execution_count": 61,
   "metadata": {
    "colab": {
     "base_uri": "https://localhost:8080/",
     "height": 300
    },
    "executionInfo": {
     "elapsed": 275,
     "status": "ok",
     "timestamp": 1654970082565,
     "user": {
      "displayName": "Piotr Szyszka",
      "userId": "10207043678912675256"
     },
     "user_tz": -120
    },
    "id": "B_XgGXYz5wf-",
    "outputId": "844b68f2-c8c6-4a09-8e0f-d38c1b8a3f18",
    "scrolled": true
   },
   "outputs": [
    {
     "data": {
      "text/html": [
       "<div>\n",
       "<style scoped>\n",
       "    .dataframe tbody tr th:only-of-type {\n",
       "        vertical-align: middle;\n",
       "    }\n",
       "\n",
       "    .dataframe tbody tr th {\n",
       "        vertical-align: top;\n",
       "    }\n",
       "\n",
       "    .dataframe thead th {\n",
       "        text-align: right;\n",
       "    }\n",
       "</style>\n",
       "<table border=\"1\" class=\"dataframe\">\n",
       "  <thead>\n",
       "    <tr style=\"text-align: right;\">\n",
       "      <th></th>\n",
       "      <th>Ethereum</th>\n",
       "      <th>Bitcoin</th>\n",
       "      <th>Binancecoin</th>\n",
       "      <th>Litecoin</th>\n",
       "    </tr>\n",
       "  </thead>\n",
       "  <tbody>\n",
       "    <tr>\n",
       "      <th>count</th>\n",
       "      <td>902.000000</td>\n",
       "      <td>902.000000</td>\n",
       "      <td>902.000000</td>\n",
       "      <td>902.000000</td>\n",
       "    </tr>\n",
       "    <tr>\n",
       "      <th>mean</th>\n",
       "      <td>1752.258623</td>\n",
       "      <td>30862.035612</td>\n",
       "      <td>233.387436</td>\n",
       "      <td>117.591574</td>\n",
       "    </tr>\n",
       "    <tr>\n",
       "      <th>std</th>\n",
       "      <td>1391.419713</td>\n",
       "      <td>18260.232894</td>\n",
       "      <td>207.920088</td>\n",
       "      <td>68.329343</td>\n",
       "    </tr>\n",
       "    <tr>\n",
       "      <th>min</th>\n",
       "      <td>110.605873</td>\n",
       "      <td>4970.788086</td>\n",
       "      <td>9.386050</td>\n",
       "      <td>30.930883</td>\n",
       "    </tr>\n",
       "    <tr>\n",
       "      <th>25%</th>\n",
       "      <td>351.378326</td>\n",
       "      <td>10608.167725</td>\n",
       "      <td>22.835897</td>\n",
       "      <td>55.188676</td>\n",
       "    </tr>\n",
       "    <tr>\n",
       "      <th>50%</th>\n",
       "      <td>1792.637268</td>\n",
       "      <td>34025.847656</td>\n",
       "      <td>264.347092</td>\n",
       "      <td>110.330795</td>\n",
       "    </tr>\n",
       "    <tr>\n",
       "      <th>75%</th>\n",
       "      <td>2940.012085</td>\n",
       "      <td>46261.769531</td>\n",
       "      <td>406.356453</td>\n",
       "      <td>167.417652</td>\n",
       "    </tr>\n",
       "    <tr>\n",
       "      <th>max</th>\n",
       "      <td>4812.087402</td>\n",
       "      <td>67566.828125</td>\n",
       "      <td>675.684082</td>\n",
       "      <td>386.450775</td>\n",
       "    </tr>\n",
       "  </tbody>\n",
       "</table>\n",
       "</div>"
      ],
      "text/plain": [
       "          Ethereum       Bitcoin  Binancecoin    Litecoin\n",
       "count   902.000000    902.000000   902.000000  902.000000\n",
       "mean   1752.258623  30862.035612   233.387436  117.591574\n",
       "std    1391.419713  18260.232894   207.920088   68.329343\n",
       "min     110.605873   4970.788086     9.386050   30.930883\n",
       "25%     351.378326  10608.167725    22.835897   55.188676\n",
       "50%    1792.637268  34025.847656   264.347092  110.330795\n",
       "75%    2940.012085  46261.769531   406.356453  167.417652\n",
       "max    4812.087402  67566.828125   675.684082  386.450775"
      ]
     },
     "execution_count": 61,
     "metadata": {},
     "output_type": "execute_result"
    }
   ],
   "source": [
    "df.describe()"
   ]
  },
  {
   "cell_type": "markdown",
   "metadata": {},
   "source": [
    "# 3. Szeregi rozdzielcze"
   ]
  },
  {
   "cell_type": "code",
   "execution_count": 62,
   "metadata": {},
   "outputs": [
    {
     "data": {
      "text/html": [
       "<style type=\"text/css\">\n",
       "#T_3de71 caption {\n",
       "  font-size: 120%;\n",
       "  font-weight: bold;\n",
       "}\n",
       "</style>\n",
       "<table id=\"T_3de71\">\n",
       "  <caption>Ethereum</caption>\n",
       "  <thead>\n",
       "    <tr>\n",
       "      <th class=\"blank level0\" >&nbsp;</th>\n",
       "      <th id=\"T_3de71_level0_col0\" class=\"col_heading level0 col0\" >Przedział</th>\n",
       "      <th id=\"T_3de71_level0_col1\" class=\"col_heading level0 col1\" >Liczebnosc</th>\n",
       "    </tr>\n",
       "  </thead>\n",
       "  <tbody>\n",
       "    <tr>\n",
       "      <th id=\"T_3de71_level0_row0\" class=\"row_heading level0 row0\" >0</th>\n",
       "      <td id=\"T_3de71_row0_col0\" class=\"data row0 col0\" >(100, 800]</td>\n",
       "      <td id=\"T_3de71_row0_col1\" class=\"data row0 col1\" >369</td>\n",
       "    </tr>\n",
       "    <tr>\n",
       "      <th id=\"T_3de71_level0_row1\" class=\"row_heading level0 row1\" >1</th>\n",
       "      <td id=\"T_3de71_row1_col0\" class=\"data row1 col0\" >(800, 1500]</td>\n",
       "      <td id=\"T_3de71_row1_col1\" class=\"data row1 col1\" >43</td>\n",
       "    </tr>\n",
       "    <tr>\n",
       "      <th id=\"T_3de71_level0_row2\" class=\"row_heading level0 row2\" >2</th>\n",
       "      <td id=\"T_3de71_row2_col0\" class=\"data row2 col0\" >(1500, 2200]</td>\n",
       "      <td id=\"T_3de71_row2_col1\" class=\"data row2 col1\" >130</td>\n",
       "    </tr>\n",
       "    <tr>\n",
       "      <th id=\"T_3de71_level0_row3\" class=\"row_heading level0 row3\" >3</th>\n",
       "      <td id=\"T_3de71_row3_col0\" class=\"data row3 col0\" >(2200, 2900]</td>\n",
       "      <td id=\"T_3de71_row3_col1\" class=\"data row3 col1\" >124</td>\n",
       "    </tr>\n",
       "    <tr>\n",
       "      <th id=\"T_3de71_level0_row4\" class=\"row_heading level0 row4\" >4</th>\n",
       "      <td id=\"T_3de71_row4_col0\" class=\"data row4 col0\" >(2900, 3600]</td>\n",
       "      <td id=\"T_3de71_row4_col1\" class=\"data row4 col1\" >137</td>\n",
       "    </tr>\n",
       "    <tr>\n",
       "      <th id=\"T_3de71_level0_row5\" class=\"row_heading level0 row5\" >5</th>\n",
       "      <td id=\"T_3de71_row5_col0\" class=\"data row5 col0\" >(3600, 4300]</td>\n",
       "      <td id=\"T_3de71_row5_col1\" class=\"data row5 col1\" >73</td>\n",
       "    </tr>\n",
       "    <tr>\n",
       "      <th id=\"T_3de71_level0_row6\" class=\"row_heading level0 row6\" >6</th>\n",
       "      <td id=\"T_3de71_row6_col0\" class=\"data row6 col0\" >(4300, 5000]</td>\n",
       "      <td id=\"T_3de71_row6_col1\" class=\"data row6 col1\" >26</td>\n",
       "    </tr>\n",
       "  </tbody>\n",
       "</table>\n"
      ],
      "text/plain": [
       "<pandas.io.formats.style.Styler at 0x12c9cd36400>"
      ]
     },
     "execution_count": 62,
     "metadata": {},
     "output_type": "execute_result"
    }
   ],
   "source": [
    "styles = [dict(selector=\"caption\", props=[(\"font-size\", \"120%\"),\n",
    "                                          (\"font-weight\", \"bold\")])]\n",
    "\n",
    "p1 = np.arange(100, 5001, 700)\n",
    "eth = pd.cut(df[\"Ethereum\"], p1, right = True)\n",
    "wyn = np.unique(eth, return_counts = True)\n",
    "szereg = pd.DataFrame({\"Przedział\": wyn[0],\n",
    "             \"Liczebnosc\": wyn[1]})\n",
    "\n",
    "szereg.style.set_caption('Ethereum').set_table_styles(styles)"
   ]
  },
  {
   "cell_type": "code",
   "execution_count": 63,
   "metadata": {},
   "outputs": [
    {
     "data": {
      "text/html": [
       "<style type=\"text/css\">\n",
       "#T_6bc36 caption {\n",
       "  font-size: 120%;\n",
       "  font-weight: bold;\n",
       "}\n",
       "</style>\n",
       "<table id=\"T_6bc36\">\n",
       "  <caption>Bitcoin</caption>\n",
       "  <thead>\n",
       "    <tr>\n",
       "      <th class=\"blank level0\" >&nbsp;</th>\n",
       "      <th id=\"T_6bc36_level0_col0\" class=\"col_heading level0 col0\" >Przedział</th>\n",
       "      <th id=\"T_6bc36_level0_col1\" class=\"col_heading level0 col1\" >Liczebnosc</th>\n",
       "    </tr>\n",
       "  </thead>\n",
       "  <tbody>\n",
       "    <tr>\n",
       "      <th id=\"T_6bc36_level0_row0\" class=\"row_heading level0 row0\" >0</th>\n",
       "      <td id=\"T_6bc36_row0_col0\" class=\"data row0 col0\" >(4500, 10500]</td>\n",
       "      <td id=\"T_6bc36_row0_col1\" class=\"data row0 col1\" >221</td>\n",
       "    </tr>\n",
       "    <tr>\n",
       "      <th id=\"T_6bc36_level0_row1\" class=\"row_heading level0 row1\" >1</th>\n",
       "      <td id=\"T_6bc36_row1_col0\" class=\"data row1 col0\" >(10500, 16500]</td>\n",
       "      <td id=\"T_6bc36_row1_col1\" class=\"data row1 col1\" >100</td>\n",
       "    </tr>\n",
       "    <tr>\n",
       "      <th id=\"T_6bc36_level0_row2\" class=\"row_heading level0 row2\" >2</th>\n",
       "      <td id=\"T_6bc36_row2_col0\" class=\"data row2 col0\" >(16500, 22500]</td>\n",
       "      <td id=\"T_6bc36_row2_col1\" class=\"data row2 col1\" >37</td>\n",
       "    </tr>\n",
       "    <tr>\n",
       "      <th id=\"T_6bc36_level0_row3\" class=\"row_heading level0 row3\" >3</th>\n",
       "      <td id=\"T_6bc36_row3_col0\" class=\"data row3 col0\" >(22500, 28500]</td>\n",
       "      <td id=\"T_6bc36_row3_col1\" class=\"data row3 col1\" >16</td>\n",
       "    </tr>\n",
       "    <tr>\n",
       "      <th id=\"T_6bc36_level0_row4\" class=\"row_heading level0 row4\" >4</th>\n",
       "      <td id=\"T_6bc36_row4_col0\" class=\"data row4 col0\" >(28500, 34500]</td>\n",
       "      <td id=\"T_6bc36_row4_col1\" class=\"data row4 col1\" >84</td>\n",
       "    </tr>\n",
       "    <tr>\n",
       "      <th id=\"T_6bc36_level0_row5\" class=\"row_heading level0 row5\" >5</th>\n",
       "      <td id=\"T_6bc36_row5_col0\" class=\"data row5 col0\" >(34500, 40500]</td>\n",
       "      <td id=\"T_6bc36_row5_col1\" class=\"data row5 col1\" >120</td>\n",
       "    </tr>\n",
       "    <tr>\n",
       "      <th id=\"T_6bc36_level0_row6\" class=\"row_heading level0 row6\" >6</th>\n",
       "      <td id=\"T_6bc36_row6_col0\" class=\"data row6 col0\" >(40500, 46500]</td>\n",
       "      <td id=\"T_6bc36_row6_col1\" class=\"data row6 col1\" >108</td>\n",
       "    </tr>\n",
       "    <tr>\n",
       "      <th id=\"T_6bc36_level0_row7\" class=\"row_heading level0 row7\" >7</th>\n",
       "      <td id=\"T_6bc36_row7_col0\" class=\"data row7 col0\" >(46500, 52500]</td>\n",
       "      <td id=\"T_6bc36_row7_col1\" class=\"data row7 col1\" >93</td>\n",
       "    </tr>\n",
       "    <tr>\n",
       "      <th id=\"T_6bc36_level0_row8\" class=\"row_heading level0 row8\" >8</th>\n",
       "      <td id=\"T_6bc36_row8_col0\" class=\"data row8 col0\" >(52500, 58500]</td>\n",
       "      <td id=\"T_6bc36_row8_col1\" class=\"data row8 col1\" >70</td>\n",
       "    </tr>\n",
       "    <tr>\n",
       "      <th id=\"T_6bc36_level0_row9\" class=\"row_heading level0 row9\" >9</th>\n",
       "      <td id=\"T_6bc36_row9_col0\" class=\"data row9 col0\" >(58500, 64500]</td>\n",
       "      <td id=\"T_6bc36_row9_col1\" class=\"data row9 col1\" >47</td>\n",
       "    </tr>\n",
       "    <tr>\n",
       "      <th id=\"T_6bc36_level0_row10\" class=\"row_heading level0 row10\" >10</th>\n",
       "      <td id=\"T_6bc36_row10_col0\" class=\"data row10 col0\" >(64500, 70500]</td>\n",
       "      <td id=\"T_6bc36_row10_col1\" class=\"data row10 col1\" >6</td>\n",
       "    </tr>\n",
       "  </tbody>\n",
       "</table>\n"
      ],
      "text/plain": [
       "<pandas.io.formats.style.Styler at 0x12c9cd39130>"
      ]
     },
     "execution_count": 63,
     "metadata": {},
     "output_type": "execute_result"
    }
   ],
   "source": [
    "p2 = np.arange(4500, 70600, 6000)\n",
    "btc = pd.cut(df.Bitcoin, p2, right = True)\n",
    "w = np.unique(btc, return_counts = True)\n",
    "szereg = pd.DataFrame({\"Przedział\": w[0],\n",
    "             \"Liczebnosc\": w[1]})\n",
    "szereg.style.set_caption(\"Bitcoin\").set_table_styles(styles)"
   ]
  },
  {
   "cell_type": "code",
   "execution_count": 64,
   "metadata": {},
   "outputs": [
    {
     "data": {
      "text/html": [
       "<style type=\"text/css\">\n",
       "#T_b80e2 caption {\n",
       "  font-size: 120%;\n",
       "  font-weight: bold;\n",
       "}\n",
       "</style>\n",
       "<table id=\"T_b80e2\">\n",
       "  <caption>Binancecoin</caption>\n",
       "  <thead>\n",
       "    <tr>\n",
       "      <th class=\"blank level0\" >&nbsp;</th>\n",
       "      <th id=\"T_b80e2_level0_col0\" class=\"col_heading level0 col0\" >Przedział</th>\n",
       "      <th id=\"T_b80e2_level0_col1\" class=\"col_heading level0 col1\" >Liczebnosc</th>\n",
       "    </tr>\n",
       "  </thead>\n",
       "  <tbody>\n",
       "    <tr>\n",
       "      <th id=\"T_b80e2_level0_row0\" class=\"row_heading level0 row0\" >0</th>\n",
       "      <td id=\"T_b80e2_row0_col0\" class=\"data row0 col0\" >(5, 80]</td>\n",
       "      <td id=\"T_b80e2_row0_col1\" class=\"data row0 col1\" >406</td>\n",
       "    </tr>\n",
       "    <tr>\n",
       "      <th id=\"T_b80e2_level0_row1\" class=\"row_heading level0 row1\" >1</th>\n",
       "      <td id=\"T_b80e2_row1_col0\" class=\"data row1 col0\" >(80, 155]</td>\n",
       "      <td id=\"T_b80e2_row1_col1\" class=\"data row1 col1\" >8</td>\n",
       "    </tr>\n",
       "    <tr>\n",
       "      <th id=\"T_b80e2_level0_row2\" class=\"row_heading level0 row2\" >2</th>\n",
       "      <td id=\"T_b80e2_row2_col0\" class=\"data row2 col0\" >(155, 230]</td>\n",
       "      <td id=\"T_b80e2_row2_col1\" class=\"data row2 col1\" >14</td>\n",
       "    </tr>\n",
       "    <tr>\n",
       "      <th id=\"T_b80e2_level0_row3\" class=\"row_heading level0 row3\" >3</th>\n",
       "      <td id=\"T_b80e2_row3_col0\" class=\"data row3 col0\" >(230, 305]</td>\n",
       "      <td id=\"T_b80e2_row3_col1\" class=\"data row3 col1\" >81</td>\n",
       "    </tr>\n",
       "    <tr>\n",
       "      <th id=\"T_b80e2_level0_row4\" class=\"row_heading level0 row4\" >4</th>\n",
       "      <td id=\"T_b80e2_row4_col0\" class=\"data row4 col0\" >(305, 380]</td>\n",
       "      <td id=\"T_b80e2_row4_col1\" class=\"data row4 col1\" >110</td>\n",
       "    </tr>\n",
       "    <tr>\n",
       "      <th id=\"T_b80e2_level0_row5\" class=\"row_heading level0 row5\" >5</th>\n",
       "      <td id=\"T_b80e2_row5_col0\" class=\"data row5 col0\" >(380, 455]</td>\n",
       "      <td id=\"T_b80e2_row5_col1\" class=\"data row5 col1\" >135</td>\n",
       "    </tr>\n",
       "    <tr>\n",
       "      <th id=\"T_b80e2_level0_row6\" class=\"row_heading level0 row6\" >6</th>\n",
       "      <td id=\"T_b80e2_row6_col0\" class=\"data row6 col0\" >(455, 530]</td>\n",
       "      <td id=\"T_b80e2_row6_col1\" class=\"data row6 col1\" >69</td>\n",
       "    </tr>\n",
       "    <tr>\n",
       "      <th id=\"T_b80e2_level0_row7\" class=\"row_heading level0 row7\" >7</th>\n",
       "      <td id=\"T_b80e2_row7_col0\" class=\"data row7 col0\" >(530, 605]</td>\n",
       "      <td id=\"T_b80e2_row7_col1\" class=\"data row7 col1\" >50</td>\n",
       "    </tr>\n",
       "    <tr>\n",
       "      <th id=\"T_b80e2_level0_row8\" class=\"row_heading level0 row8\" >8</th>\n",
       "      <td id=\"T_b80e2_row8_col0\" class=\"data row8 col0\" >(605, 680]</td>\n",
       "      <td id=\"T_b80e2_row8_col1\" class=\"data row8 col1\" >29</td>\n",
       "    </tr>\n",
       "  </tbody>\n",
       "</table>\n"
      ],
      "text/plain": [
       "<pandas.io.formats.style.Styler at 0x12c9cbb0040>"
      ]
     },
     "execution_count": 64,
     "metadata": {},
     "output_type": "execute_result"
    }
   ],
   "source": [
    "p2 = np.arange(5, 701, 75)\n",
    "bnb = pd.cut(df.Binancecoin, p2, right = True)\n",
    "w = np.unique(bnb, return_counts = True)\n",
    "szereg = pd.DataFrame({\"Przedział\": w[0],\n",
    "             \"Liczebnosc\": w[1]})\n",
    "szereg.style.set_caption(\"Binancecoin\").set_table_styles(styles)"
   ]
  },
  {
   "cell_type": "code",
   "execution_count": 65,
   "metadata": {},
   "outputs": [
    {
     "data": {
      "text/html": [
       "<style type=\"text/css\">\n",
       "#T_5682d caption {\n",
       "  font-size: 120%;\n",
       "  font-weight: bold;\n",
       "}\n",
       "</style>\n",
       "<table id=\"T_5682d\">\n",
       "  <caption>Litecoin</caption>\n",
       "  <thead>\n",
       "    <tr>\n",
       "      <th class=\"blank level0\" >&nbsp;</th>\n",
       "      <th id=\"T_5682d_level0_col0\" class=\"col_heading level0 col0\" >Przedział</th>\n",
       "      <th id=\"T_5682d_level0_col1\" class=\"col_heading level0 col1\" >Liczebnosc</th>\n",
       "    </tr>\n",
       "  </thead>\n",
       "  <tbody>\n",
       "    <tr>\n",
       "      <th id=\"T_5682d_level0_row0\" class=\"row_heading level0 row0\" >0</th>\n",
       "      <td id=\"T_5682d_row0_col0\" class=\"data row0 col0\" >(30, 70]</td>\n",
       "      <td id=\"T_5682d_row0_col1\" class=\"data row0 col1\" >335</td>\n",
       "    </tr>\n",
       "    <tr>\n",
       "      <th id=\"T_5682d_level0_row1\" class=\"row_heading level0 row1\" >1</th>\n",
       "      <td id=\"T_5682d_row1_col0\" class=\"data row1 col0\" >(70, 110]</td>\n",
       "      <td id=\"T_5682d_row1_col1\" class=\"data row1 col1\" >114</td>\n",
       "    </tr>\n",
       "    <tr>\n",
       "      <th id=\"T_5682d_level0_row2\" class=\"row_heading level0 row2\" >2</th>\n",
       "      <td id=\"T_5682d_row2_col0\" class=\"data row2 col0\" >(110, 150]</td>\n",
       "      <td id=\"T_5682d_row2_col1\" class=\"data row2 col1\" >171</td>\n",
       "    </tr>\n",
       "    <tr>\n",
       "      <th id=\"T_5682d_level0_row3\" class=\"row_heading level0 row3\" >3</th>\n",
       "      <td id=\"T_5682d_row3_col0\" class=\"data row3 col0\" >(150, 190]</td>\n",
       "      <td id=\"T_5682d_row3_col1\" class=\"data row3 col1\" >155</td>\n",
       "    </tr>\n",
       "    <tr>\n",
       "      <th id=\"T_5682d_level0_row4\" class=\"row_heading level0 row4\" >4</th>\n",
       "      <td id=\"T_5682d_row4_col0\" class=\"data row4 col0\" >(190, 230]</td>\n",
       "      <td id=\"T_5682d_row4_col1\" class=\"data row4 col1\" >78</td>\n",
       "    </tr>\n",
       "    <tr>\n",
       "      <th id=\"T_5682d_level0_row5\" class=\"row_heading level0 row5\" >5</th>\n",
       "      <td id=\"T_5682d_row5_col0\" class=\"data row5 col0\" >(230, 270]</td>\n",
       "      <td id=\"T_5682d_row5_col1\" class=\"data row5 col1\" >25</td>\n",
       "    </tr>\n",
       "    <tr>\n",
       "      <th id=\"T_5682d_level0_row6\" class=\"row_heading level0 row6\" >6</th>\n",
       "      <td id=\"T_5682d_row6_col0\" class=\"data row6 col0\" >(270, 310]</td>\n",
       "      <td id=\"T_5682d_row6_col1\" class=\"data row6 col1\" >14</td>\n",
       "    </tr>\n",
       "    <tr>\n",
       "      <th id=\"T_5682d_level0_row7\" class=\"row_heading level0 row7\" >7</th>\n",
       "      <td id=\"T_5682d_row7_col0\" class=\"data row7 col0\" >(310, 350]</td>\n",
       "      <td id=\"T_5682d_row7_col1\" class=\"data row7 col1\" >5</td>\n",
       "    </tr>\n",
       "    <tr>\n",
       "      <th id=\"T_5682d_level0_row8\" class=\"row_heading level0 row8\" >8</th>\n",
       "      <td id=\"T_5682d_row8_col0\" class=\"data row8 col0\" >(350, 390]</td>\n",
       "      <td id=\"T_5682d_row8_col1\" class=\"data row8 col1\" >5</td>\n",
       "    </tr>\n",
       "  </tbody>\n",
       "</table>\n"
      ],
      "text/plain": [
       "<pandas.io.formats.style.Styler at 0x12c9b3bbf70>"
      ]
     },
     "execution_count": 65,
     "metadata": {},
     "output_type": "execute_result"
    }
   ],
   "source": [
    "p2 = np.arange(30, 400, 40)\n",
    "ltc = pd.cut(df.Litecoin, p2, right = True)\n",
    "w = np.unique(ltc, return_counts = True)\n",
    "szereg = pd.DataFrame({\"Przedział\": w[0],\n",
    "             \"Liczebnosc\": w[1]})\n",
    "szereg.style.set_caption(\"Litecoin\").set_table_styles(styles)"
   ]
  },
  {
   "cell_type": "markdown",
   "metadata": {},
   "source": [
    "# 4. Przebieg zmienności notowań"
   ]
  },
  {
   "cell_type": "code",
   "execution_count": 66,
   "metadata": {
    "colab": {
     "base_uri": "https://localhost:8080/",
     "height": 813
    },
    "executionInfo": {
     "elapsed": 3025,
     "status": "ok",
     "timestamp": 1655497835683,
     "user": {
      "displayName": "Piotr Szyszka",
      "userId": "10207043678912675256"
     },
     "user_tz": -120
    },
    "id": "yuNiS6py1RwR",
    "outputId": "55fda226-932e-4c69-e05d-33fc1038b39c"
   },
   "outputs": [
    {
     "data": {
      "text/plain": [
       "Text(0.5, 0.98, 'Notowania od 2020-01-01 do 2022-06-11')"
      ]
     },
     "execution_count": 66,
     "metadata": {},
     "output_type": "execute_result"
    },
    {
     "data": {
      "image/png": "[encoded data removed]",
      "text/plain": [
       "<Figure size 1440x864 with 4 Axes>"
      ]
     },
     "metadata": {},
     "output_type": "display_data"
    }
   ],
   "source": [
    "fig = plt.figure(figsize = (20, 12), facecolor = \"white\")\n",
    "\n",
    "fig.add_subplot(2, 2, 1)\n",
    "plt.plot(df.Ethereum, color = \"red\", label = \"ETH\")\n",
    "plt.title(\"ETH\")\n",
    "\n",
    "fig.add_subplot(2, 2, 2)\n",
    "plt.plot(df.Bitcoin, color = \"green\", label = \"BTC\")\n",
    "plt.title(\"BTC\")\n",
    "\n",
    "fig.add_subplot(2, 2, 3)\n",
    "plt.plot(df.Binancecoin, color = \"yellow\", label = \"BNB\")\n",
    "plt.title(\"BNB\")\n",
    "\n",
    "\n",
    "fig.add_subplot(2, 2, 4)\n",
    "plt.plot(df.Litecoin, color = \"purple\", label = \"LTC\")\n",
    "plt.title(\"LTC\")\n",
    "\n",
    "fig.legend(fontsize = 15)\n",
    "fig.suptitle(\"Notowania od 2020-01-01 do 2022-06-11\", fontsize = 20, fontweight = \"bold\")"
   ]
  },
  {
   "cell_type": "markdown",
   "metadata": {
    "id": "a1Ou650qXL7F"
   },
   "source": [
    "Zauważmy, że wszystkie kryptowaluty \"wystrzeliły\" z ceną w kwietniu 2021 "
   ]
  },
  {
   "cell_type": "markdown",
   "metadata": {
    "id": "mnAMtp-oYIuU"
   },
   "source": [
    "## 5. Histogramy"
   ]
  },
  {
   "cell_type": "code",
   "execution_count": 67,
   "metadata": {
    "colab": {
     "base_uri": "https://localhost:8080/",
     "height": 616
    },
    "executionInfo": {
     "elapsed": 3634,
     "status": "ok",
     "timestamp": 1654979053538,
     "user": {
      "displayName": "Piotr Szyszka",
      "userId": "10207043678912675256"
     },
     "user_tz": -120
    },
    "id": "0BHp0NJ856lz",
    "outputId": "95138533-d000-4a23-a1f5-e09fbaa4e00f"
   },
   "outputs": [
    {
     "data": {
      "text/plain": [
       "Text(0.5, 0.98, 'Histogramy kryptowalut')"
      ]
     },
     "execution_count": 67,
     "metadata": {},
     "output_type": "execute_result"
    },
    {
     "data": {
      "image/png": "[encoded data removed]",
      "text/plain": [
       "<Figure size 1296x720 with 4 Axes>"
      ]
     },
     "metadata": {
      "needs_background": "light"
     },
     "output_type": "display_data"
    }
   ],
   "source": [
    "histogramy = plt.figure(figsize = (18, 10))\n",
    "\n",
    "histogramy.add_subplot(2, 2, 1)\n",
    "plt.hist(df.Ethereum, bins = 15, color = \"brown\", label = \"ETH\", density = True)\n",
    "df.Ethereum.plot.density(label = \"gęstość\")\n",
    "plt.legend()\n",
    "\n",
    "histogramy.add_subplot(2, 2, 2)\n",
    "plt.hist(df.Bitcoin, bins = 15, color = \"purple\", label = \"BTC\", density = True)\n",
    "df.Bitcoin.plot.density(label = \"gęstość\")\n",
    "plt.legend()\n",
    "\n",
    "histogramy.add_subplot(2, 2, 3)\n",
    "plt.hist(df.Binancecoin, bins = 15, color = \"green\", label = \"BNB\", density = True)\n",
    "df.Binancecoin.plot.density(label = \"gęstość\")\n",
    "plt.legend()\n",
    "\n",
    "histogramy.add_subplot(2, 2, 4)\n",
    "plt.hist(df.Litecoin, bins = 15, color = \"orange\", label = \"LTC\", density = True)\n",
    "df.Litecoin.plot.density(label = \"gęstość\")\n",
    "plt.legend()\n",
    "\n",
    "histogramy.suptitle(\"Histogramy kryptowalut\", fontsize = 20, fontweight = \"bold\")"
   ]
  },
  {
   "cell_type": "markdown",
   "metadata": {
    "id": "GcLU03giV7cF"
   },
   "source": [
    "## 6. Boxplot\n"
   ]
  },
  {
   "cell_type": "code",
   "execution_count": 68,
   "metadata": {
    "colab": {
     "base_uri": "https://localhost:8080/",
     "height": 625
    },
    "executionInfo": {
     "elapsed": 1217,
     "status": "ok",
     "timestamp": 1654977712577,
     "user": {
      "displayName": "Piotr Szyszka",
      "userId": "10207043678912675256"
     },
     "user_tz": -120
    },
    "id": "0U0eh2KgWNkJ",
    "outputId": "210404a2-1158-4386-b271-ea111466b4ae"
   },
   "outputs": [
    {
     "data": {
      "text/plain": [
       "Text(0.5, 0, 'LTC')"
      ]
     },
     "execution_count": 68,
     "metadata": {},
     "output_type": "execute_result"
    },
    {
     "data": {
      "image/png": "[encoded data removed]",
      "text/plain": [
       "<Figure size 1080x720 with 4 Axes>"
      ]
     },
     "metadata": {
      "needs_background": "light"
     },
     "output_type": "display_data"
    }
   ],
   "source": [
    "box = plt.figure(figsize = (15, 10))\n",
    "box.add_subplot(2, 2, 1)\n",
    "plt.boxplot(df.Ethereum)\n",
    "plt.xlabel(\"ETH\")\n",
    "\n",
    "box.add_subplot(2, 2, 2)\n",
    "plt.boxplot(df.Bitcoin)\n",
    "plt.xlabel(\"BTC\")\n",
    "\n",
    "box.add_subplot(2, 2, 3)\n",
    "plt.boxplot(df.Binancecoin)\n",
    "plt.xlabel(\"BNB\")\n",
    "\n",
    "box.add_subplot(2, 2, 4)\n",
    "plt.boxplot(df.Litecoin)\n",
    "plt.xlabel(\"LTC\")"
   ]
  },
  {
   "cell_type": "markdown",
   "metadata": {
    "id": "cdtXNpwIXFMu"
   },
   "source": [
    "# 7. Testy normalności"
   ]
  },
  {
   "cell_type": "markdown",
   "metadata": {
    "id": "ZOD15LiRX9Gb"
   },
   "source": [
    "Do sprawdzania czy rozkład notowań na giełdzie poszczególnyhch walut posłużymy się trzema testami statystycznymi, tj.\n",
    "\n",
    "* Test ***Shapiro-Wilka***,\n",
    "\n",
    "* Test ***Kołmogorowa-Smirnova***,\n",
    "\n",
    "* Test ***Lillieforsa***."
   ]
  },
  {
   "cell_type": "markdown",
   "metadata": {
    "id": "qORoSBukZ4vt"
   },
   "source": [
    "Zacznijmy od zbadania **Ethereum.**\n",
    "\n",
    "Zanim dobierzemy się do p-value, rzućmy okiem na dystrybuantę."
   ]
  },
  {
   "cell_type": "code",
   "execution_count": 69,
   "metadata": {},
   "outputs": [
    {
     "data": {
      "image/png": "[encoded data removed]",
      "text/plain": [
       "<Figure size 576x576 with 1 Axes>"
      ]
     },
     "metadata": {
      "needs_background": "light"
     },
     "output_type": "display_data"
    }
   ],
   "source": [
    " x = df.Ethereum\n",
    " ecdf = np.arange(1, len(x) + 1, 1)/len(x)\n",
    " plt.figure(figsize = (8, 8))\n",
    " plt.step(x, ecdf, color = \"blue\", label = \"empiryczny\")\n",
    " teoretyczny = st.norm(loc = np.mean(x), scale = np.std(x))\n",
    " t = np.linspace(min(x), max(x), 500)\n",
    " plt.plot(t, teoretyczny.cdf(t), color = \"green\", label = \"teoretyczny\")\n",
    "\n",
    " plt.legend(title = \"Rozkład\")\n",
    " plt.show()\n"
   ]
  },
  {
   "cell_type": "markdown",
   "metadata": {},
   "source": [
    "Powyższy wykres pozwala na dosyć odważne i uzasadnione stwierdzenie, że rozkład nie jest normalny, jednak zawsze należy to przetestować."
   ]
  },
  {
   "cell_type": "code",
   "execution_count": 70,
   "metadata": {
    "colab": {
     "base_uri": "https://localhost:8080/"
    },
    "executionInfo": {
     "elapsed": 251,
     "status": "ok",
     "timestamp": 1654978134832,
     "user": {
      "displayName": "Piotr Szyszka",
      "userId": "10207043678912675256"
     },
     "user_tz": -120
    },
    "id": "RIlCZBCmXIXN",
    "outputId": "88079ad5-79e1-40cd-86dd-0e9e656ed6f3"
   },
   "outputs": [
    {
     "data": {
      "text/plain": [
       "ShapiroResult(statistic=0.8929465413093567, pvalue=1.559334843247906e-24)"
      ]
     },
     "execution_count": 70,
     "metadata": {},
     "output_type": "execute_result"
    }
   ],
   "source": [
    "#Test Shapiro-Wilka\n",
    "st.shapiro(df.Ethereum)"
   ]
  },
  {
   "cell_type": "code",
   "execution_count": 71,
   "metadata": {
    "colab": {
     "base_uri": "https://localhost:8080/"
    },
    "executionInfo": {
     "elapsed": 257,
     "status": "ok",
     "timestamp": 1654978160151,
     "user": {
      "displayName": "Piotr Szyszka",
      "userId": "10207043678912675256"
     },
     "user_tz": -120
    },
    "id": "k9tNVCzgYpr7",
    "outputId": "c73ad120-8a5d-4fa2-b320-94bbfa8543aa"
   },
   "outputs": [
    {
     "data": {
      "text/plain": [
       "KstestResult(statistic=0.1866053040049292, pvalue=5.709673013365442e-28)"
      ]
     },
     "execution_count": 71,
     "metadata": {},
     "output_type": "execute_result"
    }
   ],
   "source": [
    "#Test Kołmogorowa-Smirnova\n",
    "\n",
    "st.kstest(df.Ethereum, teoretyczny.cdf)"
   ]
  },
  {
   "cell_type": "code",
   "execution_count": 72,
   "metadata": {
    "colab": {
     "base_uri": "https://localhost:8080/"
    },
    "executionInfo": {
     "elapsed": 250,
     "status": "ok",
     "timestamp": 1654978214122,
     "user": {
      "displayName": "Piotr Szyszka",
      "userId": "10207043678912675256"
     },
     "user_tz": -120
    },
    "id": "F5xzYBzaYqpG",
    "outputId": "88450cb0-8fe1-4d4c-9ef5-ded5c9518751"
   },
   "outputs": [
    {
     "data": {
      "text/plain": [
       "(0.18647691028429852, 0.0009999999999998899)"
      ]
     },
     "execution_count": 72,
     "metadata": {},
     "output_type": "execute_result"
    }
   ],
   "source": [
    "#Test Lillieforsa\n",
    "ssd.lilliefors(df.Ethereum)"
   ]
  },
  {
   "cell_type": "markdown",
   "metadata": {
    "id": "Lg-kzEdmY417"
   },
   "source": [
    "Każdy z testów zwraca bardzo niskie p-value, co wydaje werdykt:\n",
    "\n",
    "**Rozkład notowań na giełdzie cen Ethereum** ***nie ma rozkładu normalnego.***"
   ]
  },
  {
   "cell_type": "markdown",
   "metadata": {
    "id": "Zb3ay6ryZVd1"
   },
   "source": [
    "Teraz zajmijmy się ***Bitcoinem.***"
   ]
  },
  {
   "cell_type": "code",
   "execution_count": 73,
   "metadata": {},
   "outputs": [
    {
     "data": {
      "image/png": "[encoded data removed]",
      "text/plain": [
       "<Figure size 576x576 with 1 Axes>"
      ]
     },
     "metadata": {
      "needs_background": "light"
     },
     "output_type": "display_data"
    }
   ],
   "source": [
    " x = df.Bitcoin\n",
    " ecdf = np.arange(1, len(x) + 1, 1)/len(x)\n",
    " plt.figure(figsize = (8, 8))\n",
    " plt.step(x, ecdf, color = \"blue\", label = \"empiryczny\")\n",
    " teoretyczny = st.norm(loc = np.mean(x), scale = np.std(x))\n",
    " t = np.linspace(min(x), max(x), 500)\n",
    " plt.plot(t, teoretyczny.cdf(t), color = \"green\", label = \"teoretyczny\")\n",
    "\n",
    " plt.legend(title = \"Rozkład\")\n",
    " plt.show()\n"
   ]
  },
  {
   "cell_type": "markdown",
   "metadata": {},
   "source": [
    "Wykres bardzo podobny do wykresu dla Ethereum, stąd też wnioski podobne - ewidentny brak rozkladu normalnego cechy.\n",
    "Dla pewności przeprowadźmy testy:"
   ]
  },
  {
   "cell_type": "code",
   "execution_count": 74,
   "metadata": {
    "colab": {
     "base_uri": "https://localhost:8080/"
    },
    "executionInfo": {
     "elapsed": 255,
     "status": "ok",
     "timestamp": 1654978360807,
     "user": {
      "displayName": "Piotr Szyszka",
      "userId": "10207043678912675256"
     },
     "user_tz": -120
    },
    "id": "7AoJNe4RZY0w",
    "outputId": "50444d5e-c972-42e5-9c9e-e2d6152712f1"
   },
   "outputs": [
    {
     "data": {
      "text/plain": [
       "ShapiroResult(statistic=0.9036706686019897, pvalue=2.174466055160407e-23)"
      ]
     },
     "execution_count": 74,
     "metadata": {},
     "output_type": "execute_result"
    }
   ],
   "source": [
    "#Test Shapiro-Wilka\n",
    "st.shapiro(df.Bitcoin)"
   ]
  },
  {
   "cell_type": "code",
   "execution_count": 75,
   "metadata": {
    "colab": {
     "base_uri": "https://localhost:8080/"
    },
    "executionInfo": {
     "elapsed": 221,
     "status": "ok",
     "timestamp": 1654978935749,
     "user": {
      "displayName": "Piotr Szyszka",
      "userId": "10207043678912675256"
     },
     "user_tz": -120
    },
    "id": "gKrxi4TCaDUM",
    "outputId": "1944c210-0805-4683-9444-f51ba828dd64"
   },
   "outputs": [
    {
     "data": {
      "text/plain": [
       "KstestResult(statistic=0.17537670906458774, pvalue=9.800611398083957e-25)"
      ]
     },
     "execution_count": 75,
     "metadata": {},
     "output_type": "execute_result"
    }
   ],
   "source": [
    "#Test Kołmogorowa-Smirnova\n",
    "teoretyczny = st.norm(loc = np.mean(df.Bitcoin), scale = np.std(df.Bitcoin))\n",
    "st.kstest(df.Bitcoin, teoretyczny.cdf)"
   ]
  },
  {
   "cell_type": "code",
   "execution_count": 76,
   "metadata": {
    "colab": {
     "base_uri": "https://localhost:8080/"
    },
    "executionInfo": {
     "elapsed": 250,
     "status": "ok",
     "timestamp": 1654978679854,
     "user": {
      "displayName": "Piotr Szyszka",
      "userId": "10207043678912675256"
     },
     "user_tz": -120
    },
    "id": "aj0rwHB8am8G",
    "outputId": "019fd74d-a3e3-40ad-90d3-71bb042cda8f"
   },
   "outputs": [
    {
     "data": {
      "text/plain": [
       "(0.17524265541950185, 0.0009999999999998899)"
      ]
     },
     "execution_count": 76,
     "metadata": {},
     "output_type": "execute_result"
    }
   ],
   "source": [
    "#Test Lillieforsa\n",
    "ssd.lilliefors(df.Bitcoin)"
   ]
  },
  {
   "cell_type": "markdown",
   "metadata": {
    "id": "mzYuzm2PbETU"
   },
   "source": [
    "Tak samo jak w przypadku Ethereum, notowania Bitcoina ***nie pochodzą z rodziny rozkładu normalnego.***"
   ]
  },
  {
   "cell_type": "markdown",
   "metadata": {
    "id": "sIwTo0jfbFeY"
   },
   "source": [
    "Powtarzamy procedurę testowania dla ***Binancecoin***"
   ]
  },
  {
   "cell_type": "code",
   "execution_count": 77,
   "metadata": {},
   "outputs": [
    {
     "data": {
      "image/png": "[encoded data removed]",
      "text/plain": [
       "<Figure size 576x576 with 1 Axes>"
      ]
     },
     "metadata": {
      "needs_background": "light"
     },
     "output_type": "display_data"
    }
   ],
   "source": [
    " x = df.Binancecoin\n",
    " ecdf = np.arange(1, len(x) + 1, 1)/len(x)\n",
    " plt.figure(figsize = (8, 8))\n",
    " plt.step(x, ecdf, color = \"blue\", label = \"empiryczny\")\n",
    " teoretyczny = st.norm(loc = np.mean(x), scale = np.std(x))\n",
    " t = np.linspace(min(x), max(x), 500)\n",
    " plt.plot(t, teoretyczny.cdf(t), color = \"green\", label = \"teoretyczny\")\n",
    "\n",
    " plt.legend(title = \"Rozkład\")\n",
    " plt.show()\n"
   ]
  },
  {
   "cell_type": "code",
   "execution_count": 78,
   "metadata": {
    "colab": {
     "base_uri": "https://localhost:8080/"
    },
    "executionInfo": {
     "elapsed": 234,
     "status": "ok",
     "timestamp": 1654978899021,
     "user": {
      "displayName": "Piotr Szyszka",
      "userId": "10207043678912675256"
     },
     "user_tz": -120
    },
    "id": "gMd2kokzbczF",
    "outputId": "b68028bc-7a7e-4500-b464-7dd485d631a1"
   },
   "outputs": [
    {
     "data": {
      "text/plain": [
       "ShapiroResult(statistic=0.8461546301841736, pvalue=1.094687385921903e-28)"
      ]
     },
     "execution_count": 78,
     "metadata": {},
     "output_type": "execute_result"
    }
   ],
   "source": [
    "#Test Shapiro-Wilka\n",
    "st.shapiro(df.Binancecoin)"
   ]
  },
  {
   "cell_type": "code",
   "execution_count": 79,
   "metadata": {
    "colab": {
     "base_uri": "https://localhost:8080/"
    },
    "executionInfo": {
     "elapsed": 242,
     "status": "ok",
     "timestamp": 1654978929215,
     "user": {
      "displayName": "Piotr Szyszka",
      "userId": "10207043678912675256"
     },
     "user_tz": -120
    },
    "id": "ky6tDn10bf6J",
    "outputId": "0ba3f423-414c-4bc4-ebb4-80903681c1b5"
   },
   "outputs": [
    {
     "data": {
      "text/plain": [
       "KstestResult(statistic=0.258049077082325, pvalue=1.8484135180517455e-53)"
      ]
     },
     "execution_count": 79,
     "metadata": {},
     "output_type": "execute_result"
    }
   ],
   "source": [
    "#Test Kołmogorowa-Smirnova\n",
    "teoretyczny = st.norm(loc = np.mean(df.Binancecoin), scale = np.std(df.Binancecoin))\n",
    "st.kstest(df.Binancecoin, teoretyczny.cdf)"
   ]
  },
  {
   "cell_type": "code",
   "execution_count": 80,
   "metadata": {
    "colab": {
     "base_uri": "https://localhost:8080/"
    },
    "executionInfo": {
     "elapsed": 324,
     "status": "ok",
     "timestamp": 1654978974521,
     "user": {
      "displayName": "Piotr Szyszka",
      "userId": "10207043678912675256"
     },
     "user_tz": -120
    },
    "id": "4XJ6geFwbs7z",
    "outputId": "6b889d58-50f1-4d9f-e1ff-e3ab4e0fbe3b"
   },
   "outputs": [
    {
     "data": {
      "text/plain": [
       "(0.2579161726054845, 0.0009999999999998899)"
      ]
     },
     "execution_count": 80,
     "metadata": {},
     "output_type": "execute_result"
    }
   ],
   "source": [
    "#Test Lillieforsa\n",
    "ssd.lilliefors(df.Binancecoin)"
   ]
  },
  {
   "cell_type": "markdown",
   "metadata": {
    "id": "zzXJWDoRbxr3"
   },
   "source": [
    "Tak jak poprzednicy, ***notowania Binancecoin'a nie pochodzą z rozkładu normalnego.***"
   ]
  },
  {
   "cell_type": "markdown",
   "metadata": {
    "id": "hL9rBtDBb-Xl"
   },
   "source": [
    "Pozostał ***Litecoin***"
   ]
  },
  {
   "cell_type": "code",
   "execution_count": 81,
   "metadata": {},
   "outputs": [
    {
     "data": {
      "image/png": "[encoded data removed]",
      "text/plain": [
       "<Figure size 576x576 with 1 Axes>"
      ]
     },
     "metadata": {
      "needs_background": "light"
     },
     "output_type": "display_data"
    }
   ],
   "source": [
    " x = df.Litecoin\n",
    " ecdf = np.arange(1, len(x) + 1, 1)/len(x)\n",
    " plt.figure(figsize = (8, 8))\n",
    " plt.step(x, ecdf, color = \"blue\", label = \"empiryczny\")\n",
    " teoretyczny = st.norm(loc = np.mean(x), scale = np.std(x))\n",
    " t = np.linspace(min(x), max(x), 500)\n",
    " plt.plot(t, teoretyczny.cdf(t), color = \"green\", label = \"teoretyczny\")\n",
    "\n",
    " plt.legend(title = \"Rozkład\")\n",
    " plt.show()\n"
   ]
  },
  {
   "cell_type": "code",
   "execution_count": 82,
   "metadata": {
    "colab": {
     "base_uri": "https://localhost:8080/"
    },
    "executionInfo": {
     "elapsed": 233,
     "status": "ok",
     "timestamp": 1654979082514,
     "user": {
      "displayName": "Piotr Szyszka",
      "userId": "10207043678912675256"
     },
     "user_tz": -120
    },
    "id": "ZwayY2ZZcIZ_",
    "outputId": "1b7899e2-bf3c-404f-e9a9-8ccf18678281"
   },
   "outputs": [
    {
     "data": {
      "text/plain": [
       "ShapiroResult(statistic=0.9107166528701782, pvalue=1.389453024108446e-22)"
      ]
     },
     "execution_count": 82,
     "metadata": {},
     "output_type": "execute_result"
    }
   ],
   "source": [
    "#Test Shapiro-Wilka\n",
    "st.shapiro(df.Litecoin)"
   ]
  },
  {
   "cell_type": "code",
   "execution_count": 83,
   "metadata": {
    "colab": {
     "base_uri": "https://localhost:8080/"
    },
    "executionInfo": {
     "elapsed": 261,
     "status": "ok",
     "timestamp": 1654979098310,
     "user": {
      "displayName": "Piotr Szyszka",
      "userId": "10207043678912675256"
     },
     "user_tz": -120
    },
    "id": "_y7pUqYvcL5t",
    "outputId": "954afe8c-f972-4c78-c2c8-33ff68368e12"
   },
   "outputs": [
    {
     "data": {
      "text/plain": [
       "KstestResult(statistic=0.13121977754229475, pvalue=5.294940491736424e-14)"
      ]
     },
     "execution_count": 83,
     "metadata": {},
     "output_type": "execute_result"
    }
   ],
   "source": [
    "#Test Kołmogorowa-Smirnova\n",
    "teoretyczny = st.norm(loc = np.mean(df.Litecoin), scale = np.std(df.Litecoin))\n",
    "st.kstest(df.Litecoin, teoretyczny.cdf)"
   ]
  },
  {
   "cell_type": "code",
   "execution_count": 84,
   "metadata": {
    "colab": {
     "base_uri": "https://localhost:8080/"
    },
    "executionInfo": {
     "elapsed": 242,
     "status": "ok",
     "timestamp": 1654979110229,
     "user": {
      "displayName": "Piotr Szyszka",
      "userId": "10207043678912675256"
     },
     "user_tz": -120
    },
    "id": "cp4KeJYMcP-0",
    "outputId": "c40a2088-a5d1-4b58-cfb3-09242202836e"
   },
   "outputs": [
    {
     "data": {
      "text/plain": [
       "(0.13110374028432925, 0.0009999999999998899)"
      ]
     },
     "execution_count": 84,
     "metadata": {},
     "output_type": "execute_result"
    }
   ],
   "source": [
    "#Test Lillieforsa\n",
    "ssd.lilliefors(df.Litecoin)"
   ]
  },
  {
   "cell_type": "markdown",
   "metadata": {
    "id": "r7fZllOPcSne"
   },
   "source": [
    "Tak jak mogliśmy się spodziewać, ***notowania Litecoina również nie pochodzą z rozkładu normalnego.***"
   ]
  },
  {
   "cell_type": "markdown",
   "metadata": {},
   "source": [
    "# 8. Modele regresji\n"
   ]
  },
  {
   "cell_type": "markdown",
   "metadata": {},
   "source": [
    "# 8.1 Model regresji wielorakiej"
   ]
  },
  {
   "cell_type": "markdown",
   "metadata": {},
   "source": [
    "Sprawdźmy czy i jak cena ***Ethereum*** zależy od pozostałych kryptowalut ze zbioru danych (**BTC, BNB, LTC**)."
   ]
  },
  {
   "cell_type": "code",
   "execution_count": 85,
   "metadata": {},
   "outputs": [
    {
     "data": {
      "text/html": [
       "<table class=\"simpletable\">\n",
       "<caption>OLS Regression Results</caption>\n",
       "<tr>\n",
       "  <th>Dep. Variable:</th>        <td>Ethereum</td>     <th>  R-squared:         </th> <td>   0.945</td> \n",
       "</tr>\n",
       "<tr>\n",
       "  <th>Model:</th>                   <td>OLS</td>       <th>  Adj. R-squared:    </th> <td>   0.945</td> \n",
       "</tr>\n",
       "<tr>\n",
       "  <th>Method:</th>             <td>Least Squares</td>  <th>  F-statistic:       </th> <td>   5167.</td> \n",
       "</tr>\n",
       "<tr>\n",
       "  <th>Date:</th>             <td>Tue, 21 Jun 2022</td> <th>  Prob (F-statistic):</th>  <td>  0.00</td>  \n",
       "</tr>\n",
       "<tr>\n",
       "  <th>Time:</th>                 <td>16:19:50</td>     <th>  Log-Likelihood:    </th> <td> -6498.1</td> \n",
       "</tr>\n",
       "<tr>\n",
       "  <th>No. Observations:</th>      <td>   902</td>      <th>  AIC:               </th> <td>1.300e+04</td>\n",
       "</tr>\n",
       "<tr>\n",
       "  <th>Df Residuals:</th>          <td>   898</td>      <th>  BIC:               </th> <td>1.302e+04</td>\n",
       "</tr>\n",
       "<tr>\n",
       "  <th>Df Model:</th>              <td>     3</td>      <th>                     </th>     <td> </td>    \n",
       "</tr>\n",
       "<tr>\n",
       "  <th>Covariance Type:</th>      <td>nonrobust</td>    <th>                     </th>     <td> </td>    \n",
       "</tr>\n",
       "</table>\n",
       "<table class=\"simpletable\">\n",
       "<tr>\n",
       "       <td></td>          <th>coef</th>     <th>std err</th>      <th>t</th>      <th>P>|t|</th>  <th>[0.025</th>    <th>0.975]</th>  \n",
       "</tr>\n",
       "<tr>\n",
       "  <th>Intercept</th>   <td>   82.4765</td> <td>   23.539</td> <td>    3.504</td> <td> 0.000</td> <td>   36.278</td> <td>  128.675</td>\n",
       "</tr>\n",
       "<tr>\n",
       "  <th>Bitcoin</th>     <td>    0.0296</td> <td>    0.002</td> <td>   15.980</td> <td> 0.000</td> <td>    0.026</td> <td>    0.033</td>\n",
       "</tr>\n",
       "<tr>\n",
       "  <th>Binancecoin</th> <td>    5.0701</td> <td>    0.115</td> <td>   44.270</td> <td> 0.000</td> <td>    4.845</td> <td>    5.295</td>\n",
       "</tr>\n",
       "<tr>\n",
       "  <th>Litecoin</th>    <td>   -3.6215</td> <td>    0.361</td> <td>  -10.042</td> <td> 0.000</td> <td>   -4.329</td> <td>   -2.914</td>\n",
       "</tr>\n",
       "</table>\n",
       "<table class=\"simpletable\">\n",
       "<tr>\n",
       "  <th>Omnibus:</th>       <td>252.598</td> <th>  Durbin-Watson:     </th> <td>   0.052</td> \n",
       "</tr>\n",
       "<tr>\n",
       "  <th>Prob(Omnibus):</th> <td> 0.000</td>  <th>  Jarque-Bera (JB):  </th> <td> 855.760</td> \n",
       "</tr>\n",
       "<tr>\n",
       "  <th>Skew:</th>          <td>-1.331</td>  <th>  Prob(JB):          </th> <td>1.49e-186</td>\n",
       "</tr>\n",
       "<tr>\n",
       "  <th>Kurtosis:</th>      <td> 6.960</td>  <th>  Cond. No.          </th> <td>7.77e+04</td> \n",
       "</tr>\n",
       "</table><br/><br/>Notes:<br/>[1] Standard Errors assume that the covariance matrix of the errors is correctly specified.<br/>[2] The condition number is large, 7.77e+04. This might indicate that there are<br/>strong multicollinearity or other numerical problems."
      ],
      "text/plain": [
       "<class 'statsmodels.iolib.summary.Summary'>\n",
       "\"\"\"\n",
       "                            OLS Regression Results                            \n",
       "==============================================================================\n",
       "Dep. Variable:               Ethereum   R-squared:                       0.945\n",
       "Model:                            OLS   Adj. R-squared:                  0.945\n",
       "Method:                 Least Squares   F-statistic:                     5167.\n",
       "Date:                Tue, 21 Jun 2022   Prob (F-statistic):               0.00\n",
       "Time:                        16:19:50   Log-Likelihood:                -6498.1\n",
       "No. Observations:                 902   AIC:                         1.300e+04\n",
       "Df Residuals:                     898   BIC:                         1.302e+04\n",
       "Df Model:                           3                                         \n",
       "Covariance Type:            nonrobust                                         \n",
       "===============================================================================\n",
       "                  coef    std err          t      P>|t|      [0.025      0.975]\n",
       "-------------------------------------------------------------------------------\n",
       "Intercept      82.4765     23.539      3.504      0.000      36.278     128.675\n",
       "Bitcoin         0.0296      0.002     15.980      0.000       0.026       0.033\n",
       "Binancecoin     5.0701      0.115     44.270      0.000       4.845       5.295\n",
       "Litecoin       -3.6215      0.361    -10.042      0.000      -4.329      -2.914\n",
       "==============================================================================\n",
       "Omnibus:                      252.598   Durbin-Watson:                   0.052\n",
       "Prob(Omnibus):                  0.000   Jarque-Bera (JB):              855.760\n",
       "Skew:                          -1.331   Prob(JB):                    1.49e-186\n",
       "Kurtosis:                       6.960   Cond. No.                     7.77e+04\n",
       "==============================================================================\n",
       "\n",
       "Notes:\n",
       "[1] Standard Errors assume that the covariance matrix of the errors is correctly specified.\n",
       "[2] The condition number is large, 7.77e+04. This might indicate that there are\n",
       "strong multicollinearity or other numerical problems.\n",
       "\"\"\""
      ]
     },
     "execution_count": 85,
     "metadata": {},
     "output_type": "execute_result"
    }
   ],
   "source": [
    "regresja = smf.ols(formula = \"Ethereum ~ Bitcoin + Binancecoin + Litecoin\", data = df)\n",
    "wynik = regresja.fit()\n",
    "wynik.summary()"
   ]
  },
  {
   "cell_type": "code",
   "execution_count": 86,
   "metadata": {},
   "outputs": [
    {
     "data": {
      "text/plain": [
       "Intercept       4.813108e-04\n",
       "Bitcoin         8.937737e-51\n",
       "Binancecoin    5.815166e-228\n",
       "Litecoin        1.467947e-22\n",
       "dtype: float64"
      ]
     },
     "execution_count": 86,
     "metadata": {},
     "output_type": "execute_result"
    }
   ],
   "source": [
    "wynik.pvalues"
   ]
  },
  {
   "cell_type": "markdown",
   "metadata": {},
   "source": [
    "Powyższe wartości p dla testu badającego istotność statystyczną współczynników modelu, pozwalają wyciągnąć wniosek:\n",
    "\n",
    "Każdy z współczynników **jest istotny statystycznie**, co oznacza, że każda z pozostałych kryptowalut może objaśniać.\n",
    "\n",
    "Skoro tak, możemy przejść do interpretacji pozostałych parametrów modelu."
   ]
  },
  {
   "cell_type": "code",
   "execution_count": 87,
   "metadata": {},
   "outputs": [
    {
     "ename": "SyntaxError",
     "evalue": "invalid syntax (3446531836.py, line 1)",
     "output_type": "error",
     "traceback": [
      "\u001b[1;36m  Input \u001b[1;32mIn [87]\u001b[1;36m\u001b[0m\n\u001b[1;33m    Współczynnik determinacji **$R^2$ = 0.947** oznacza precyzyjne dopasowanie modelu do danych empirycznych. Mówiąc wprost - model wyjaśnia ponad ***90% zmienności ETH***.\u001b[0m\n\u001b[1;37m                 ^\u001b[0m\n\u001b[1;31mSyntaxError\u001b[0m\u001b[1;31m:\u001b[0m invalid syntax\n"
     ]
    }
   ],
   "source": [
    "Współczynnik determinacji **$R^2$ = 0.947** oznacza precyzyjne dopasowanie modelu do danych empirycznych. Mówiąc wprost - model wyjaśnia ponad ***90% zmienności ETH***.\n"
   ]
  },
  {
   "cell_type": "markdown",
   "metadata": {},
   "source": [
    "# Założenia modelu"
   ]
  },
  {
   "cell_type": "markdown",
   "metadata": {},
   "source": [
    "Sprawdźmy czy spełnione zostały założenia modelu."
   ]
  },
  {
   "cell_type": "markdown",
   "metadata": {},
   "source": [
    "* $E(\\epsilon | x) = 0$\n",
    "\n",
    "W sytuacji gdy budujemy model regresji liniowej z wyrazem wolnym (bo jest możliwość budowania modelu bez wyrazu wolnego ), to metoda najmniejszych kwadratów zapewnia nam, że średnia arytmetyczna reszt jest równa zero. To powoduje, że założenie  jest automatycznie spełnione.\n"
   ]
  },
  {
   "cell_type": "markdown",
   "metadata": {},
   "source": [
    "* Normalność reszt\n",
    "\n",
    "W celu zbadania czy reszty maja rozkład normalny przeprowadzimy dwa testy statystyczne - Snapiro Wilka i Lillieforsa. Zanim to, zerknijmy na histogram."
   ]
  },
  {
   "cell_type": "code",
   "execution_count": 88,
   "metadata": {},
   "outputs": [
    {
     "data": {
      "text/plain": [
       "(array([  1.,   0.,   3.,   5.,   8.,  12.,  14.,  42.,  22.,  53., 419.,\n",
       "        142., 113.,  55.,  13.]),\n",
       " array([-1863.83447125, -1688.28867268, -1512.74287411, -1337.19707554,\n",
       "        -1161.65127697,  -986.10547839,  -810.55967982,  -635.01388125,\n",
       "         -459.46808268,  -283.92228411,  -108.37648554,    67.16931304,\n",
       "          242.71511161,   418.26091018,   593.80670875,   769.35250732]),\n",
       " <BarContainer object of 15 artists>)"
      ]
     },
     "execution_count": 88,
     "metadata": {},
     "output_type": "execute_result"
    },
    {
     "data": {
      "image/png": "[encoded data removed]",
      "text/plain": [
       "<Figure size 432x288 with 1 Axes>"
      ]
     },
     "metadata": {
      "needs_background": "light"
     },
     "output_type": "display_data"
    }
   ],
   "source": [
    "plt.hist(wynik.resid, bins = 15)"
   ]
  },
  {
   "cell_type": "code",
   "execution_count": 89,
   "metadata": {},
   "outputs": [
    {
     "data": {
      "text/plain": [
       "ShapiroResult(statistic=0.8837708234786987, pvalue=1.9105281747698942e-25)"
      ]
     },
     "execution_count": 89,
     "metadata": {},
     "output_type": "execute_result"
    }
   ],
   "source": [
    "#Test Shapiro-Wilka\n",
    "st.shapiro(wynik.resid)"
   ]
  },
  {
   "cell_type": "code",
   "execution_count": 90,
   "metadata": {},
   "outputs": [
    {
     "data": {
      "text/plain": [
       "(0.20848804200814547, 0.0009999999999998899)"
      ]
     },
     "execution_count": 90,
     "metadata": {},
     "output_type": "execute_result"
    }
   ],
   "source": [
    "#Test Lillieforsa\n",
    "ssd.lilliefors(wynik.resid)"
   ]
  },
  {
   "cell_type": "markdown",
   "metadata": {},
   "source": [
    "Wniosek jest oczywisty - **reszty nie mają rozkładu normalnego.**"
   ]
  },
  {
   "cell_type": "markdown",
   "metadata": {},
   "source": [
    "* $Var(\\epsilon | x) = \\sigma^2$ (jednorodność wariancji)\n",
    "\n",
    "W celu zbadania jednorodności wariancji wykonamy test ***Breusch'a Pagan'a***."
   ]
  },
  {
   "cell_type": "code",
   "execution_count": 91,
   "metadata": {},
   "outputs": [
    {
     "data": {
      "text/plain": [
       "(241.00448326916876,\n",
       " 5.771450271002829e-52,\n",
       " 109.13943211299387,\n",
       " 2.98582821510538e-60)"
      ]
     },
     "execution_count": 91,
     "metadata": {},
     "output_type": "execute_result"
    }
   ],
   "source": [
    "test = sms.het_breuschpagan(wynik.resid, wynik.model.exog)\n",
    "test # p =  9.674730128615546e-54 "
   ]
  },
  {
   "cell_type": "markdown",
   "metadata": {},
   "source": [
    "*p-value = 9.674730128615546e-54* świadczy o ***niejednorodności (heteroskedastyczności reszt) wariancji.***"
   ]
  },
  {
   "cell_type": "markdown",
   "metadata": {},
   "source": [
    "* $Cov(\\epsilon_i, \\epsilon_j | x) = 0 $ (autokorelacja reszt)\n",
    "Przeprowadzony test ***Durbin'a Watson'a*** zwracający p-value = 0.054 świadczy, że na poziomie istotności $\\alpha = 0.05$ należy stwierdzić, że reszty są ze sobą skorelowane.\n"
   ]
  },
  {
   "cell_type": "markdown",
   "metadata": {},
   "source": [
    "* Liniowa zależność\n",
    "\n",
    "Testy RESET i Harvey'a-Collier'a zweryfikują, czy istnieje liniowa zależność w modelu."
   ]
  },
  {
   "cell_type": "code",
   "execution_count": 92,
   "metadata": {},
   "outputs": [
    {
     "data": {
      "text/plain": [
       "Ttest_1sampResult(statistic=11.817414629845139, pvalue=4.694809183033085e-30)"
      ]
     },
     "execution_count": 92,
     "metadata": {},
     "output_type": "execute_result"
    }
   ],
   "source": [
    "#Test Harveya-Colliera \n",
    "ssd.linear_harvey_collier(wynik)"
   ]
  },
  {
   "cell_type": "code",
   "execution_count": 93,
   "metadata": {},
   "outputs": [
    {
     "name": "stderr",
     "output_type": "stream",
     "text": [
      "D:\\Anaconda\\lib\\site-packages\\statsmodels\\stats\\diagnostic.py:1081: FutureWarning: Support for multi-dimensional indexing (e.g. `obj[:, None]`) is deprecated and will be removed in a future version.  Convert to a numpy array before indexing instead.\n",
      "  aug = res.fittedvalues[:, None]\n"
     ]
    },
    {
     "data": {
      "text/plain": [
       "<class 'statsmodels.stats.contrast.ContrastResults'>\n",
       "<Wald test (chi2): statistic=37.573751387023194, p-value=6.933676163218796e-09, df_denom=2>"
      ]
     },
     "execution_count": 93,
     "metadata": {},
     "output_type": "execute_result"
    }
   ],
   "source": [
    "#Test Reset\n",
    "ssd.linear_reset(wynik)"
   ]
  },
  {
   "cell_type": "markdown",
   "metadata": {},
   "source": [
    "Według powyższych testów miedzy zmiennymi **nie występuje zależność liniowa.**"
   ]
  },
  {
   "cell_type": "markdown",
   "metadata": {},
   "source": [
    "Podsumowując:\n",
    "\n",
    "Zbudowany model regresji wielorakiej okazuje się nie spełniać wszystkich założeń. Świadczy to o tym, że objaśnianie jednej kryprowaluty za pomocą innych jest nieefektywne."
   ]
  },
  {
   "cell_type": "markdown",
   "metadata": {},
   "source": [
    "Spróbujmy więc zbudować model regresji prostej. \n"
   ]
  },
  {
   "cell_type": "markdown",
   "metadata": {},
   "source": [
    "# 8.1 Model regresji prostej\n",
    "Niech zmienną zależną będzie ***Bitcoin*** a niezależną ***Ethereum***."
   ]
  },
  {
   "cell_type": "code",
   "execution_count": 94,
   "metadata": {},
   "outputs": [
    {
     "data": {
      "text/html": [
       "<table class=\"simpletable\">\n",
       "<caption>OLS Regression Results</caption>\n",
       "<tr>\n",
       "  <th>Dep. Variable:</th>         <td>Bitcoin</td>     <th>  R-squared:         </th> <td>   0.813</td> \n",
       "</tr>\n",
       "<tr>\n",
       "  <th>Model:</th>                   <td>OLS</td>       <th>  Adj. R-squared:    </th> <td>   0.813</td> \n",
       "</tr>\n",
       "<tr>\n",
       "  <th>Method:</th>             <td>Least Squares</td>  <th>  F-statistic:       </th> <td>   3923.</td> \n",
       "</tr>\n",
       "<tr>\n",
       "  <th>Date:</th>             <td>Tue, 21 Jun 2022</td> <th>  Prob (F-statistic):</th>  <td>  0.00</td>  \n",
       "</tr>\n",
       "<tr>\n",
       "  <th>Time:</th>                 <td>16:19:51</td>     <th>  Log-Likelihood:    </th> <td> -9373.2</td> \n",
       "</tr>\n",
       "<tr>\n",
       "  <th>No. Observations:</th>      <td>   902</td>      <th>  AIC:               </th> <td>1.875e+04</td>\n",
       "</tr>\n",
       "<tr>\n",
       "  <th>Df Residuals:</th>          <td>   900</td>      <th>  BIC:               </th> <td>1.876e+04</td>\n",
       "</tr>\n",
       "<tr>\n",
       "  <th>Df Model:</th>              <td>     1</td>      <th>                     </th>     <td> </td>    \n",
       "</tr>\n",
       "<tr>\n",
       "  <th>Covariance Type:</th>      <td>nonrobust</td>    <th>                     </th>     <td> </td>    \n",
       "</tr>\n",
       "</table>\n",
       "<table class=\"simpletable\">\n",
       "<tr>\n",
       "      <td></td>         <th>coef</th>     <th>std err</th>      <th>t</th>      <th>P>|t|</th>  <th>[0.025</th>    <th>0.975]</th>  \n",
       "</tr>\n",
       "<tr>\n",
       "  <th>Intercept</th> <td> 1.012e+04</td> <td>  422.749</td> <td>   23.945</td> <td> 0.000</td> <td> 9293.143</td> <td>  1.1e+04</td>\n",
       "</tr>\n",
       "<tr>\n",
       "  <th>Ethereum</th>  <td>   11.8357</td> <td>    0.189</td> <td>   62.630</td> <td> 0.000</td> <td>   11.465</td> <td>   12.207</td>\n",
       "</tr>\n",
       "</table>\n",
       "<table class=\"simpletable\">\n",
       "<tr>\n",
       "  <th>Omnibus:</th>       <td>347.569</td> <th>  Durbin-Watson:     </th> <td>   0.013</td> \n",
       "</tr>\n",
       "<tr>\n",
       "  <th>Prob(Omnibus):</th> <td> 0.000</td>  <th>  Jarque-Bera (JB):  </th> <td>1008.063</td> \n",
       "</tr>\n",
       "<tr>\n",
       "  <th>Skew:</th>          <td> 1.997</td>  <th>  Prob(JB):          </th> <td>1.26e-219</td>\n",
       "</tr>\n",
       "<tr>\n",
       "  <th>Kurtosis:</th>      <td> 6.297</td>  <th>  Cond. No.          </th> <td>3.60e+03</td> \n",
       "</tr>\n",
       "</table><br/><br/>Notes:<br/>[1] Standard Errors assume that the covariance matrix of the errors is correctly specified.<br/>[2] The condition number is large, 3.6e+03. This might indicate that there are<br/>strong multicollinearity or other numerical problems."
      ],
      "text/plain": [
       "<class 'statsmodels.iolib.summary.Summary'>\n",
       "\"\"\"\n",
       "                            OLS Regression Results                            \n",
       "==============================================================================\n",
       "Dep. Variable:                Bitcoin   R-squared:                       0.813\n",
       "Model:                            OLS   Adj. R-squared:                  0.813\n",
       "Method:                 Least Squares   F-statistic:                     3923.\n",
       "Date:                Tue, 21 Jun 2022   Prob (F-statistic):               0.00\n",
       "Time:                        16:19:51   Log-Likelihood:                -9373.2\n",
       "No. Observations:                 902   AIC:                         1.875e+04\n",
       "Df Residuals:                     900   BIC:                         1.876e+04\n",
       "Df Model:                           1                                         \n",
       "Covariance Type:            nonrobust                                         \n",
       "==============================================================================\n",
       "                 coef    std err          t      P>|t|      [0.025      0.975]\n",
       "------------------------------------------------------------------------------\n",
       "Intercept   1.012e+04    422.749     23.945      0.000    9293.143     1.1e+04\n",
       "Ethereum      11.8357      0.189     62.630      0.000      11.465      12.207\n",
       "==============================================================================\n",
       "Omnibus:                      347.569   Durbin-Watson:                   0.013\n",
       "Prob(Omnibus):                  0.000   Jarque-Bera (JB):             1008.063\n",
       "Skew:                           1.997   Prob(JB):                    1.26e-219\n",
       "Kurtosis:                       6.297   Cond. No.                     3.60e+03\n",
       "==============================================================================\n",
       "\n",
       "Notes:\n",
       "[1] Standard Errors assume that the covariance matrix of the errors is correctly specified.\n",
       "[2] The condition number is large, 3.6e+03. This might indicate that there are\n",
       "strong multicollinearity or other numerical problems.\n",
       "\"\"\""
      ]
     },
     "execution_count": 94,
     "metadata": {},
     "output_type": "execute_result"
    }
   ],
   "source": [
    "regresja = smf.ols(formula = \"Bitcoin ~ Ethereum\", data = df)\n",
    "wynik = regresja.fit()\n",
    "wynik.summary()"
   ]
  },
  {
   "cell_type": "markdown",
   "metadata": {},
   "source": [
    "# Interpretacja modelu"
   ]
  },
  {
   "cell_type": "markdown",
   "metadata": {},
   "source": [
    "## $R^2$ oraz parametry strukturalne i ich istotność"
   ]
  },
  {
   "cell_type": "markdown",
   "metadata": {},
   "source": [
    "$R^2$ czyli współczynnik determinacji na poziomie **0.813** oznacza, że ***81**% zmienności **BTC**jest wyjaśniane przez model"
   ]
  },
  {
   "cell_type": "code",
   "execution_count": 95,
   "metadata": {},
   "outputs": [
    {
     "data": {
      "text/plain": [
       "Intercept    10122.831320\n",
       "Ethereum        11.835698\n",
       "dtype: float64"
      ]
     },
     "execution_count": 95,
     "metadata": {},
     "output_type": "execute_result"
    }
   ],
   "source": [
    "wynik.params"
   ]
  },
  {
   "cell_type": "code",
   "execution_count": 96,
   "metadata": {},
   "outputs": [
    {
     "data": {
      "text/plain": [
       "Intercept    1.981731e-98\n",
       "Ethereum     0.000000e+00\n",
       "dtype: float64"
      ]
     },
     "execution_count": 96,
     "metadata": {},
     "output_type": "execute_result"
    }
   ],
   "source": [
    "wynik.pvalues"
   ]
  },
  {
   "cell_type": "markdown",
   "metadata": {},
   "source": [
    "Współczynnik przy ***ETH***  oznacza to, że  wzrost ceny tej kryptowaluty o 11.82 powoduje wzrost ***Bitcoin'a*** o 1.\n",
    "\n",
    "p-value niskie, stąd wniosek:\n",
    "\n",
    "*Ethereum istotnie wpływa na Bitcoin.*"
   ]
  },
  {
   "cell_type": "markdown",
   "metadata": {},
   "source": [
    "# "
   ]
  },
  {
   "cell_type": "markdown",
   "metadata": {},
   "source": [
    "# Sprawdzenie założeń modelu"
   ]
  },
  {
   "cell_type": "markdown",
   "metadata": {},
   "source": [
    "# Normalność reszt"
   ]
  },
  {
   "cell_type": "code",
   "execution_count": 97,
   "metadata": {},
   "outputs": [
    {
     "data": {
      "text/plain": [
       "(array([ 10.,  30., 165., 395., 107.,  42.,  26.,  21.,  15.,  17.,  10.,\n",
       "         13.,  13.,  24.,  14.]),\n",
       " array([-12160.93502063,  -9460.85543694,  -6760.77585324,  -4060.69626954,\n",
       "         -1360.61668584,   1339.46289786,   4039.54248156,   6739.62206526,\n",
       "          9439.70164896,  12139.78123266,  14839.86081636,  17539.94040006,\n",
       "         20240.01998375,  22940.09956745,  25640.17915115,  28340.25873485]),\n",
       " <BarContainer object of 15 artists>)"
      ]
     },
     "execution_count": 97,
     "metadata": {},
     "output_type": "execute_result"
    },
    {
     "data": {
      "image/png": "[encoded data removed]",
      "text/plain": [
       "<Figure size 432x288 with 1 Axes>"
      ]
     },
     "metadata": {
      "needs_background": "light"
     },
     "output_type": "display_data"
    }
   ],
   "source": [
    "plt.hist(wynik.resid, bins = 15)"
   ]
  },
  {
   "cell_type": "code",
   "execution_count": 98,
   "metadata": {},
   "outputs": [
    {
     "data": {
      "text/plain": [
       "ShapiroResult(statistic=0.7213895320892334, pvalue=3.107911927739827e-36)"
      ]
     },
     "execution_count": 98,
     "metadata": {},
     "output_type": "execute_result"
    }
   ],
   "source": [
    "#Test Shapiro-Wilka\n",
    "st.shapiro(wynik.resid)"
   ]
  },
  {
   "cell_type": "markdown",
   "metadata": {},
   "source": [
    "Tak jak poprzednio, tym razem reszty też nie mają rozkładu normalnego."
   ]
  },
  {
   "cell_type": "markdown",
   "metadata": {},
   "source": [
    "# Autokorelacja reszt\n",
    "p - value przy teście Durbina-Watsona na poziomie 0.013 oznacza ***brak skorelowania reszt.***"
   ]
  },
  {
   "cell_type": "markdown",
   "metadata": {},
   "source": [
    "# Jednorodność wariancji"
   ]
  },
  {
   "cell_type": "code",
   "execution_count": 99,
   "metadata": {},
   "outputs": [
    {
     "data": {
      "text/plain": [
       "(2.4829135443715025,\n",
       " 0.11508888105906015,\n",
       " 2.4842465180282653,\n",
       " 0.1153428243582759)"
      ]
     },
     "execution_count": 99,
     "metadata": {},
     "output_type": "execute_result"
    }
   ],
   "source": [
    "test = sms.het_breuschpagan(wynik.resid, wynik.model.exog)\n",
    "test # p = 0.1294 - brak podstaw do odrzucenia hipotezy o jednorodności wariancji"
   ]
  },
  {
   "cell_type": "markdown",
   "metadata": {},
   "source": [
    "# Liniowa zależność"
   ]
  },
  {
   "cell_type": "code",
   "execution_count": 100,
   "metadata": {},
   "outputs": [
    {
     "data": {
      "text/plain": [
       "Ttest_1sampResult(statistic=-17.905215782334178, pvalue=1.5265743914186455e-61)"
      ]
     },
     "execution_count": 100,
     "metadata": {},
     "output_type": "execute_result"
    }
   ],
   "source": [
    "#Test Harveya-Colliera \n",
    "ssd.linear_harvey_collier(wynik)\n",
    "#  pvalue=4.983970886948758e-61 \n",
    "# Liniowa zależność pomiędzy zmiennymi nie występuje."
   ]
  },
  {
   "cell_type": "code",
   "execution_count": null,
   "metadata": {},
   "outputs": [],
   "source": []
  }
 ],
 "metadata": {
  "colab": {
   "authorship_tag": "ABX9TyPqEtlvu6+thuwOSA6OGpij",
   "collapsed_sections": [],
   "name": "projekt.ipynb",
   "provenance": []
  },
  "kernelspec": {
   "display_name": "Python 3 (ipykernel)",
   "language": "python",
   "name": "python3"
  },
  "language_info": {
   "codemirror_mode": {
    "name": "ipython",
    "version": 3
   },
   "file_extension": ".py",
   "mimetype": "text/x-python",
   "name": "python",
   "nbconvert_exporter": "python",
   "pygments_lexer": "ipython3",
   "version": "3.9.12"
  }
 },
 "nbformat": 4,
 "nbformat_minor": 1
}
